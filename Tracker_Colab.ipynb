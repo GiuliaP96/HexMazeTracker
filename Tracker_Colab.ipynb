{
  "nbformat": 4,
  "nbformat_minor": 0,
  "metadata": {
    "colab": {
      "name": "Tracker_Colab.ipynb",
      "provenance": [],
      "collapsed_sections": [],
      "toc_visible": true
    },
    "kernelspec": {
      "name": "python3",
      "display_name": "Python 3"
    },
    "language_info": {
      "name": "python"
    },
    "accelerator": "GPU"
  },
  "cells": [
    {
      "cell_type": "markdown",
      "metadata": {
        "id": "oxN4qbub6elM"
      },
      "source": [
        "#Tracker Yolov3 custom and opencv [version 4.5.2-dev]\n",
        "\n",
        "##Requirements \n",
        "\n",
        "### -Google Drive account with folder MyDrive/videos/ and output/logs/ to save output files\n",
        "\n",
        "### -ColabTools.rar or .zip with yolo .weights file and file .so for environment setting \n"
      ]
    },
    {
      "cell_type": "markdown",
      "metadata": {
        "id": "HLkmqAKv7Ajh"
      },
      "source": [
        "##Run cell below to check if the GPU is active. \n",
        "### In case there is no active GPU go to Edit > Notebook settings > change None to GPU"
      ]
    },
    {
      "cell_type": "code",
      "metadata": {
        "colab": {
          "base_uri": "https://localhost:8080/"
        },
        "id": "fFGK19_SpfLt",
        "outputId": "6132591f-18ad-4b4c-ab0a-12d13c112794"
      },
      "source": [
        "##In the case there is no GPU go to Edit > Notebook settings and change None to GPU\n",
        "!nvidia-smi"
      ],
      "execution_count": null,
      "outputs": [
        {
          "output_type": "stream",
          "text": [
            "Fri Jun  4 23:42:50 2021       \n",
            "+-----------------------------------------------------------------------------+\n",
            "| NVIDIA-SMI 465.27       Driver Version: 460.32.03    CUDA Version: 11.2     |\n",
            "|-------------------------------+----------------------+----------------------+\n",
            "| GPU  Name        Persistence-M| Bus-Id        Disp.A | Volatile Uncorr. ECC |\n",
            "| Fan  Temp  Perf  Pwr:Usage/Cap|         Memory-Usage | GPU-Util  Compute M. |\n",
            "|                               |                      |               MIG M. |\n",
            "|===============================+======================+======================|\n",
            "|   0  Tesla T4            Off  | 00000000:00:04.0 Off |                    0 |\n",
            "| N/A   37C    P8     9W /  70W |      0MiB / 15109MiB |      0%      Default |\n",
            "|                               |                      |                  N/A |\n",
            "+-------------------------------+----------------------+----------------------+\n",
            "                                                                               \n",
            "+-----------------------------------------------------------------------------+\n",
            "| Processes:                                                                  |\n",
            "|  GPU   GI   CI        PID   Type   Process name                  GPU Memory |\n",
            "|        ID   ID                                                   Usage      |\n",
            "|=============================================================================|\n",
            "|  No running processes found                                                 |\n",
            "+-----------------------------------------------------------------------------+\n"
          ],
          "name": "stdout"
        }
      ]
    },
    {
      "cell_type": "code",
      "metadata": {
        "colab": {
          "base_uri": "https://localhost:8080/"
        },
        "id": "_iYsQBTvZ_eh",
        "outputId": "73e66abe-b905-412b-e2d1-33690d7115c2"
      },
      "source": [
        "# CUDA: check which version of Nvidia CUDA drivers are already pre-installed\n",
        "!/usr/local/cuda/bin/nvcc --version"
      ],
      "execution_count": null,
      "outputs": [
        {
          "output_type": "stream",
          "text": [
            "nvcc: NVIDIA (R) Cuda compiler driver\n",
            "Copyright (c) 2005-2020 NVIDIA Corporation\n",
            "Built on Wed_Jul_22_19:09:09_PDT_2020\n",
            "Cuda compilation tools, release 11.0, V11.0.221\n",
            "Build cuda_11.0_bu.TC445_37.28845127_0\n"
          ],
          "name": "stdout"
        }
      ]
    },
    {
      "cell_type": "markdown",
      "metadata": {
        "id": "RQt23yZHzCbA"
      },
      "source": [
        "## Login to Google Drive account [folders drive in content/drive/MyDrive] "
      ]
    },
    {
      "cell_type": "code",
      "metadata": {
        "colab": {
          "base_uri": "https://localhost:8080/"
        },
        "id": "rAeP3Acvn-Pw",
        "outputId": "968a3d9a-ac21-40a8-dc79-40e74d898d04"
      },
      "source": [
        "from google.colab import drive\n",
        "drive.mount('/content/drive') \n",
        "!ln -s  /content/drive/My\\ Drive/ /mydrive  \n",
        "!ls /mydrive"
      ],
      "execution_count": null,
      "outputs": [
        {
          "output_type": "stream",
          "text": [
            "Drive already mounted at /content/drive; to attempt to forcibly remount, call drive.mount(\"/content/drive\", force_remount=True).\n",
            "ln: failed to create symbolic link '/mydrive/My Drive': File exists\n",
            "'Colab Notebooks'   cv2_gpu     stitched.mp4   Tracker-Yolov3DeepSort   yolov4\n",
            " ColabTools.rar    'My Drive'   Tracker        yolov3\n"
          ],
          "name": "stdout"
        }
      ]
    },
    {
      "cell_type": "markdown",
      "metadata": {
        "id": "9hfrMy2n_EeH"
      },
      "source": [
        "## Clone GitHub repository"
      ]
    },
    {
      "cell_type": "code",
      "metadata": {
        "id": "SCH1-Rj4Sjiz",
        "colab": {
          "base_uri": "https://localhost:8080/"
        },
        "outputId": "c6e3de4c-febb-4f01-966e-df5dff1958ab"
      },
      "source": [
        "!git clone https://github.com/GiuliaP96/TrackerColab.git"
      ],
      "execution_count": null,
      "outputs": [
        {
          "output_type": "stream",
          "text": [
            "Cloning into 'TrackerColab'...\n",
            "remote: Enumerating objects: 21, done.\u001b[K\n",
            "remote: Counting objects: 100% (21/21), done.\u001b[K\n",
            "remote: Compressing objects: 100% (19/19), done.\u001b[K\n",
            "remote: Total 21 (delta 3), reused 0 (delta 0), pack-reused 0\u001b[K\n",
            "Unpacking objects: 100% (21/21), done.\n"
          ],
          "name": "stdout"
        }
      ]
    },
    {
      "cell_type": "markdown",
      "metadata": {
        "id": "FMmthaKKFsdj"
      },
      "source": [
        "## Load .rar, unrar and load files weights/yolov3.weights and cv2_gpu/*.so in Colab Tracker folder\n",
        "\n"
      ]
    },
    {
      "cell_type": "code",
      "metadata": {
        "id": "MmfyJ2GzE38k"
      },
      "source": [
        "!pip install pyunpack\n",
        "!pip install patool\n",
        "from pyunpack import Archive\n",
        "#Archive('Location of the rar file').extractall('Location where you want to have the folder')\n",
        "Archive('/content/drive/MyDrive/ColabTools.rar').extractall('/content/TrackerColab')"
      ],
      "execution_count": null,
      "outputs": []
    },
    {
      "cell_type": "markdown",
      "metadata": {
        "id": "sO8rm_XYGSk0"
      },
      "source": [
        "##Load Colab env modules to work with cv2 ver 4.5.2-dev with backed cuda for GPU usage"
      ]
    },
    {
      "cell_type": "code",
      "metadata": {
        "id": "L1Mc0k-roJop"
      },
      "source": [
        "!cp \"/content/TrackerColab/cv2_gpu/cv2.cpython-37m-x86_64-linux-gnu.so\" ."
      ],
      "execution_count": null,
      "outputs": []
    },
    {
      "cell_type": "markdown",
      "metadata": {
        "id": "XnbfzmaMGmic"
      },
      "source": [
        "##Restart Runtime (Runtime > Restart Runtime)\n",
        "\n",
        "##Check if cv2 version is correct\n",
        "\n",
        "---\n",
        "\n"
      ]
    },
    {
      "cell_type": "code",
      "metadata": {
        "colab": {
          "base_uri": "https://localhost:8080/",
          "height": 35
        },
        "id": "NWF3hCE5SMrn",
        "outputId": "12c5fd54-2cd8-4b02-dfd7-00eef1e60684"
      },
      "source": [
        "import cv2\n",
        "cv2.__version__ \n",
        "#If not working (e.g.cv2 version 4.1.0 or below 4.5) see at the end of the page for first time troubleshooting"
      ],
      "execution_count": null,
      "outputs": [
        {
          "output_type": "execute_result",
          "data": {
            "application/vnd.google.colaboratory.intrinsic+json": {
              "type": "string"
            },
            "text/plain": [
              "'4.5.2-dev'"
            ]
          },
          "metadata": {
            "tags": []
          },
          "execution_count": 23
        }
      ]
    },
    {
      "cell_type": "markdown",
      "metadata": {
        "id": "QvtBh8e_IKft"
      },
      "source": [
        "## Run tracker (-input video file, -o path to .log files)"
      ]
    },
    {
      "cell_type": "code",
      "metadata": {
        "colab": {
          "base_uri": "https://localhost:8080/"
        },
        "id": "d9MzS3BYoS2q",
        "outputId": "0bfa7e82-9c19-4751-a385-5930419047d8"
      },
      "source": [
        "##Simpler tracker using only opencv DNN and GPU if opencv version 5.4.1 - see above cells to set the env. -i input video path, -o path output logs files o/logs/.log\n",
        "%cd /content/TrackerColab/\n",
        "!python /content/TrackerColab/TrackerYolov3-Colab.py -i /content/drive/MyDrive/stitched.mp4 -o /content/drive/MyDrive/Tracker-Yolov3DeepSort # e.g. Rat12_1_20200605_stitched.mp4 "
      ],
      "execution_count": null,
      "outputs": [
        {
          "output_type": "stream",
          "text": [
            "/content/TrackerColab\n",
            "\n",
            "Video path /content/drive/MyDrive/stitched.mp4\n",
            "Enter unique file name: j\n",
            "#\n",
            "Lite Tracker version: v2.00\n",
            "#\n",
            "\n",
            "creating log files...\n",
            "Enter num total trials: 1\n",
            "Enter rat number: Exception in thread Thread-1:\n",
            "Traceback (most recent call last):\n",
            "  File \"/usr/lib/python3.7/threading.py\", line 926, in _bootstrap_inner\n",
            "    self.run()\n",
            "  File \"/usr/lib/python3.7/threading.py\", line 870, in run\n",
            "    self._target(*self._args, **self._kwargs)\n",
            "  File \"/content/TrackerColab/TrackerYolo-Colab.py\", line 51, in load_network\n",
            "    self.net.setPreferableBackend(cv2.dnn.DNN_BACKEND_CUDA)  ##Colab or GPU only\n",
            "AttributeError: module 'cv2.dnn' has no attribute 'DNN_BACKEND_CUDA'\n",
            "\n",
            "Traceback (most recent call last):\n",
            "  File \"/content/TrackerColab/TrackerYolo-Colab.py\", line 495, in <module>\n",
            "    Tracker(vp = args.vid_path, nl = node_list, file_id = file_id) #, out = args.output\n",
            "  File \"/content/TrackerColab/TrackerYolo-Colab.py\", line 127, in __init__\n",
            "    thread.join()            \n",
            "  File \"/usr/lib/python3.7/threading.py\", line 1044, in join\n",
            "    self._wait_for_tstate_lock()\n",
            "  File \"/usr/lib/python3.7/threading.py\", line 1060, in _wait_for_tstate_lock\n",
            "    elif lock.acquire(block, timeout):\n",
            "KeyboardInterrupt\n",
            "Exception ignored in: <module 'threading' from '/usr/lib/python3.7/threading.py'>\n",
            "Traceback (most recent call last):\n",
            "  File \"/usr/lib/python3.7/threading.py\", line 1307, in _shutdown\n",
            "    lock.acquire()\n",
            "KeyboardInterrupt\n"
          ],
          "name": "stdout"
        }
      ]
    },
    {
      "cell_type": "markdown",
      "metadata": {
        "id": "fx8HU6HP6oo4"
      },
      "source": [
        "Last performance: 11-13 fps\n",
        "round fps, 2 and change Trial n none Time FPS.\n",
        "\n",
        "start node trial x+1 \n",
        "position node number rat keep frame fps firs \n",
        "end session in approx 1 hour"
      ]
    },
    {
      "cell_type": "markdown",
      "metadata": {
        "id": "jCLfdjR-a5dd"
      },
      "source": [
        "##Troubleshooting cv2 version"
      ]
    },
    {
      "cell_type": "code",
      "metadata": {
        "id": "4ZevR7oqUq9P"
      },
      "source": [
        "##Create env with cv2 repo - first time otherwise run cells section below to upload env modules from drive\n",
        "%cd /content\n",
        "!git clone https://github.com/opencv/opencv\n",
        "!git clone https://github.com/opencv/opencv_contrib\n",
        "!mkdir /content/build\n",
        "%cd /content/build\n",
        "\n",
        "!cmake -DOPENCV_EXTRA_MODULES_PATH=/content/opencv_contrib/modules  -DBUILD_SHARED_LIBS=OFF  -DBUILD_TESTS=OFF  -DBUILD_PERF_TESTS=OFF -DBUILD_EXAMPLES=OFF -DWITH_OPENEXR=OFF -DWITH_CUDA=ON -DWITH_CUBLAS=ON -DWITH_CUDNN=ON -DOPENCV_DNN_CUDA=ON /content/opencv\n",
        "!make -j8 install"
      ],
      "execution_count": null,
      "outputs": []
    },
    {
      "cell_type": "code",
      "metadata": {
        "colab": {
          "base_uri": "https://localhost:8080/"
        },
        "id": "wpHyEZXSa-wF",
        "outputId": "cd2be533-a4ca-498b-e6c3-f021b6cc39cc"
      },
      "source": [
        "#SaVE ENV file .so in drive to get it later on\n",
        "#!mkdir  \"/content/drive/MyDrive/cv2_gpu\"   #OR# /content/build/lib/python3/cv2.cpython-36m-x86_64-linux-gnu.so\n",
        "!cp './usr/local/lib/python3.7/dist-packages/cv2/python-3.7/cv2.cpython-37m-x86_64-linux-gnu.so' '/content/drive/MyDrive/cv2_gpu/'\n",
        "#!zip -r /content/ColabTools.zip /usr/local/lib/python3.7/dist-packages/cv2/python-3.7/cv2.cpython-36m-x86_64-linux-gnu.so  #try 37m if not 36m\n",
        "#from google.colab import files\n",
        "#files.download(\"/content/ColabTools.zip\")"
      ],
      "execution_count": null,
      "outputs": [
        {
          "output_type": "stream",
          "text": [
            "cp: cannot stat './usr/local/lib/python3.7/dist-packages/cv2/python-3.7/cv2.cpython-37m-x86_64-linux-gnu.so': No such file or directory\n"
          ],
          "name": "stdout"
        }
      ]
    }
  ]
}